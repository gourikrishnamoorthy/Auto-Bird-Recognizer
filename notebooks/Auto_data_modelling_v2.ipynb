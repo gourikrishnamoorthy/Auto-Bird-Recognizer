{
 "cells": [
  {
   "cell_type": "code",
   "execution_count": 169,
   "metadata": {},
   "outputs": [],
   "source": [
    "import librosa\n",
    "import pandas as pd\n",
    "import numpy as np\n",
    "import matplotlib.pyplot as plt\n",
    "%matplotlib inline\n",
    "from sklearn.model_selection import train_test_split\n",
    "from sklearn.preprocessing import LabelEncoder, StandardScaler, PolynomialFeatures\n",
    "from keras import layers\n",
    "from keras.models import Sequential\n",
    "from tensorflow.keras.layers import Dense, Dropout, Conv2D\n",
    "from tensorflow.keras.callbacks import EarlyStopping\n",
    "from tensorflow.keras.models import Model\n",
    "from sklearn.metrics import classification_report, roc_curve\n",
    "from keras.models import load_model\n",
    "import warnings\n",
    "warnings.filterwarnings('ignore')"
   ]
  },
  {
   "cell_type": "code",
   "execution_count": 185,
   "metadata": {},
   "outputs": [],
   "source": [
    "data = pd.read_csv('python_codes/dataset_500_21_recordings_v4.csv')"
   ]
  },
  {
   "cell_type": "code",
   "execution_count": 186,
   "metadata": {},
   "outputs": [
    {
     "data": {
      "text/plain": [
       "(4777, 83)"
      ]
     },
     "execution_count": 186,
     "metadata": {},
     "output_type": "execute_result"
    }
   ],
   "source": [
    "#checking the amount of data\n",
    "data.shape"
   ]
  },
  {
   "cell_type": "code",
   "execution_count": 187,
   "metadata": {},
   "outputs": [],
   "source": [
    "#remove duplicates\n",
    "data.drop_duplicates(\"birdSound\", keep=\"first\", inplace=True)"
   ]
  },
  {
   "cell_type": "code",
   "execution_count": 188,
   "metadata": {},
   "outputs": [
    {
     "data": {
      "text/plain": [
       "(4777, 83)"
      ]
     },
     "execution_count": 188,
     "metadata": {},
     "output_type": "execute_result"
    }
   ],
   "source": [
    "#checking data after removing duplicates\n",
    "data.shape"
   ]
  },
  {
   "cell_type": "code",
   "execution_count": 174,
   "metadata": {},
   "outputs": [],
   "source": [
    "poly = PolynomialFeatures(include_bias=False, interaction_only=True)"
   ]
  },
  {
   "cell_type": "code",
   "execution_count": 175,
   "metadata": {},
   "outputs": [],
   "source": [
    "data = data.drop(['birdSound'],axis=1)"
   ]
  },
  {
   "cell_type": "code",
   "execution_count": 176,
   "metadata": {},
   "outputs": [
    {
     "data": {
      "text/html": [
       "<div>\n",
       "<style scoped>\n",
       "    .dataframe tbody tr th:only-of-type {\n",
       "        vertical-align: middle;\n",
       "    }\n",
       "\n",
       "    .dataframe tbody tr th {\n",
       "        vertical-align: top;\n",
       "    }\n",
       "\n",
       "    .dataframe thead th {\n",
       "        text-align: right;\n",
       "    }\n",
       "</style>\n",
       "<table border=\"1\" class=\"dataframe\">\n",
       "  <thead>\n",
       "    <tr style=\"text-align: right;\">\n",
       "      <th></th>\n",
       "      <th>sound_median</th>\n",
       "      <th>sound_mean</th>\n",
       "      <th>sound_std</th>\n",
       "      <th>chroma_stft_median</th>\n",
       "      <th>chroma_stft_mean</th>\n",
       "      <th>chroma_stft_std</th>\n",
       "      <th>rms_median</th>\n",
       "      <th>rms_mean</th>\n",
       "      <th>rms_std</th>\n",
       "      <th>spectral_centroid_median</th>\n",
       "      <th>...</th>\n",
       "      <th>mfcc_std17</th>\n",
       "      <th>mfcc_median18</th>\n",
       "      <th>mfcc_mean18</th>\n",
       "      <th>mfcc_std18</th>\n",
       "      <th>mfcc_median19</th>\n",
       "      <th>mfcc_mean19</th>\n",
       "      <th>mfcc_std19</th>\n",
       "      <th>mfcc_median20</th>\n",
       "      <th>mfcc_mean20</th>\n",
       "      <th>mfcc_std20</th>\n",
       "    </tr>\n",
       "  </thead>\n",
       "  <tbody>\n",
       "    <tr>\n",
       "      <th>0</th>\n",
       "      <td>-6.351335e-05</td>\n",
       "      <td>-6.333958e-05</td>\n",
       "      <td>0.013106</td>\n",
       "      <td>0.041940</td>\n",
       "      <td>0.229366</td>\n",
       "      <td>0.329840</td>\n",
       "      <td>0.000212</td>\n",
       "      <td>0.001253</td>\n",
       "      <td>0.004196</td>\n",
       "      <td>9941.271476</td>\n",
       "      <td>...</td>\n",
       "      <td>8.778395</td>\n",
       "      <td>1.752184</td>\n",
       "      <td>1.872641</td>\n",
       "      <td>7.376098</td>\n",
       "      <td>-1.275718</td>\n",
       "      <td>-0.984656</td>\n",
       "      <td>7.442373</td>\n",
       "      <td>2.662979</td>\n",
       "      <td>3.635231</td>\n",
       "      <td>6.939034</td>\n",
       "    </tr>\n",
       "    <tr>\n",
       "      <th>1</th>\n",
       "      <td>6.866045e-05</td>\n",
       "      <td>4.663520e-05</td>\n",
       "      <td>0.009118</td>\n",
       "      <td>0.250548</td>\n",
       "      <td>0.358658</td>\n",
       "      <td>0.334298</td>\n",
       "      <td>0.000027</td>\n",
       "      <td>0.000250</td>\n",
       "      <td>0.000678</td>\n",
       "      <td>5089.809140</td>\n",
       "      <td>...</td>\n",
       "      <td>7.443198</td>\n",
       "      <td>0.119155</td>\n",
       "      <td>-1.109779</td>\n",
       "      <td>8.158848</td>\n",
       "      <td>0.892763</td>\n",
       "      <td>1.472027</td>\n",
       "      <td>7.035617</td>\n",
       "      <td>1.076863</td>\n",
       "      <td>1.252048</td>\n",
       "      <td>7.544783</td>\n",
       "    </tr>\n",
       "    <tr>\n",
       "      <th>2</th>\n",
       "      <td>3.176906e-07</td>\n",
       "      <td>-8.101284e-09</td>\n",
       "      <td>0.035807</td>\n",
       "      <td>0.071402</td>\n",
       "      <td>0.224597</td>\n",
       "      <td>0.312671</td>\n",
       "      <td>0.001018</td>\n",
       "      <td>0.010865</td>\n",
       "      <td>0.018757</td>\n",
       "      <td>4382.897663</td>\n",
       "      <td>...</td>\n",
       "      <td>8.288863</td>\n",
       "      <td>1.666752</td>\n",
       "      <td>3.532516</td>\n",
       "      <td>7.958379</td>\n",
       "      <td>0.056443</td>\n",
       "      <td>0.719548</td>\n",
       "      <td>7.991818</td>\n",
       "      <td>-1.921792</td>\n",
       "      <td>-3.831388</td>\n",
       "      <td>8.580925</td>\n",
       "    </tr>\n",
       "    <tr>\n",
       "      <th>3</th>\n",
       "      <td>0.000000e+00</td>\n",
       "      <td>7.826290e-08</td>\n",
       "      <td>0.023321</td>\n",
       "      <td>0.175518</td>\n",
       "      <td>0.301874</td>\n",
       "      <td>0.319029</td>\n",
       "      <td>0.000099</td>\n",
       "      <td>0.006572</td>\n",
       "      <td>0.020510</td>\n",
       "      <td>7606.338664</td>\n",
       "      <td>...</td>\n",
       "      <td>7.047872</td>\n",
       "      <td>0.406961</td>\n",
       "      <td>2.970625</td>\n",
       "      <td>5.852077</td>\n",
       "      <td>0.206729</td>\n",
       "      <td>0.706336</td>\n",
       "      <td>5.403243</td>\n",
       "      <td>-0.238021</td>\n",
       "      <td>-1.922228</td>\n",
       "      <td>6.015114</td>\n",
       "    </tr>\n",
       "    <tr>\n",
       "      <th>4</th>\n",
       "      <td>0.000000e+00</td>\n",
       "      <td>-4.171003e-05</td>\n",
       "      <td>0.083057</td>\n",
       "      <td>0.222774</td>\n",
       "      <td>0.332619</td>\n",
       "      <td>0.317830</td>\n",
       "      <td>0.000240</td>\n",
       "      <td>0.005629</td>\n",
       "      <td>0.024900</td>\n",
       "      <td>7116.898527</td>\n",
       "      <td>...</td>\n",
       "      <td>5.616858</td>\n",
       "      <td>0.000000</td>\n",
       "      <td>0.971736</td>\n",
       "      <td>6.115594</td>\n",
       "      <td>0.000000</td>\n",
       "      <td>0.180466</td>\n",
       "      <td>5.033263</td>\n",
       "      <td>0.000000</td>\n",
       "      <td>-1.197898</td>\n",
       "      <td>5.648283</td>\n",
       "    </tr>\n",
       "  </tbody>\n",
       "</table>\n",
       "<p>5 rows × 81 columns</p>\n",
       "</div>"
      ],
      "text/plain": [
       "   sound_median    sound_mean  sound_std  chroma_stft_median  \\\n",
       "0 -6.351335e-05 -6.333958e-05   0.013106            0.041940   \n",
       "1  6.866045e-05  4.663520e-05   0.009118            0.250548   \n",
       "2  3.176906e-07 -8.101284e-09   0.035807            0.071402   \n",
       "3  0.000000e+00  7.826290e-08   0.023321            0.175518   \n",
       "4  0.000000e+00 -4.171003e-05   0.083057            0.222774   \n",
       "\n",
       "   chroma_stft_mean  chroma_stft_std  rms_median  rms_mean   rms_std  \\\n",
       "0          0.229366         0.329840    0.000212  0.001253  0.004196   \n",
       "1          0.358658         0.334298    0.000027  0.000250  0.000678   \n",
       "2          0.224597         0.312671    0.001018  0.010865  0.018757   \n",
       "3          0.301874         0.319029    0.000099  0.006572  0.020510   \n",
       "4          0.332619         0.317830    0.000240  0.005629  0.024900   \n",
       "\n",
       "   spectral_centroid_median  ...  mfcc_std17  mfcc_median18  mfcc_mean18  \\\n",
       "0               9941.271476  ...    8.778395       1.752184     1.872641   \n",
       "1               5089.809140  ...    7.443198       0.119155    -1.109779   \n",
       "2               4382.897663  ...    8.288863       1.666752     3.532516   \n",
       "3               7606.338664  ...    7.047872       0.406961     2.970625   \n",
       "4               7116.898527  ...    5.616858       0.000000     0.971736   \n",
       "\n",
       "   mfcc_std18  mfcc_median19  mfcc_mean19  mfcc_std19  mfcc_median20  \\\n",
       "0    7.376098      -1.275718    -0.984656    7.442373       2.662979   \n",
       "1    8.158848       0.892763     1.472027    7.035617       1.076863   \n",
       "2    7.958379       0.056443     0.719548    7.991818      -1.921792   \n",
       "3    5.852077       0.206729     0.706336    5.403243      -0.238021   \n",
       "4    6.115594       0.000000     0.180466    5.033263       0.000000   \n",
       "\n",
       "   mfcc_mean20  mfcc_std20  \n",
       "0     3.635231    6.939034  \n",
       "1     1.252048    7.544783  \n",
       "2    -3.831388    8.580925  \n",
       "3    -1.922228    6.015114  \n",
       "4    -1.197898    5.648283  \n",
       "\n",
       "[5 rows x 81 columns]"
      ]
     },
     "execution_count": 176,
     "metadata": {},
     "output_type": "execute_result"
    }
   ],
   "source": [
    "data.iloc[:, :-1].head()"
   ]
  },
  {
   "cell_type": "code",
   "execution_count": 177,
   "metadata": {},
   "outputs": [],
   "source": [
    "data_poly = poly.fit_transform(data.iloc[:, :-1])"
   ]
  },
  {
   "cell_type": "code",
   "execution_count": 178,
   "metadata": {},
   "outputs": [],
   "source": [
    "data_poly = pd.DataFrame(data_poly, columns=poly.get_feature_names(data.iloc[:, :-1].columns))"
   ]
  },
  {
   "cell_type": "code",
   "execution_count": 179,
   "metadata": {},
   "outputs": [],
   "source": [
    "# list(data_poly.columns)"
   ]
  },
  {
   "cell_type": "code",
   "execution_count": 180,
   "metadata": {},
   "outputs": [
    {
     "data": {
      "text/plain": [
       "(4756, 3321)"
      ]
     },
     "execution_count": 180,
     "metadata": {},
     "output_type": "execute_result"
    }
   ],
   "source": [
    "data_poly.shape"
   ]
  },
  {
   "cell_type": "code",
   "execution_count": 181,
   "metadata": {},
   "outputs": [],
   "source": [
    "genre_list = data.iloc[:, -1]\n",
    "encoder = LabelEncoder()\n",
    "y = encoder.fit_transform(genre_list)#Scaling the Feature columns\n",
    "scaler = StandardScaler()\n",
    "X = np.array(data_poly, dtype = float)\n",
    "X_train, X_test, y_train, y_test = train_test_split(X, y, test_size=0.20, stratify=y)\n",
    "X_train_sc = scaler.fit_transform(X_train)#Dividing data into training and Testing set\n",
    "X_test_sc = scaler.transform(X_test)"
   ]
  },
  {
   "cell_type": "code",
   "execution_count": 182,
   "metadata": {},
   "outputs": [
    {
     "data": {
      "text/plain": [
       "2    500\n",
       "5    498\n",
       "0    498\n",
       "8    495\n",
       "4    492\n",
       "3    488\n",
       "1    482\n",
       "7    475\n",
       "6    466\n",
       "9    362\n",
       "dtype: int64"
      ]
     },
     "execution_count": 182,
     "metadata": {},
     "output_type": "execute_result"
    }
   ],
   "source": [
    "pd.Series(y).value_counts()"
   ]
  },
  {
   "cell_type": "code",
   "execution_count": 183,
   "metadata": {},
   "outputs": [
    {
     "data": {
      "text/plain": [
       "(3804, 3321)"
      ]
     },
     "execution_count": 183,
     "metadata": {},
     "output_type": "execute_result"
    }
   ],
   "source": [
    "X_train_sc.shape"
   ]
  },
  {
   "cell_type": "code",
   "execution_count": 184,
   "metadata": {},
   "outputs": [
    {
     "data": {
      "text/plain": [
       "(952, 3321)"
      ]
     },
     "execution_count": 184,
     "metadata": {},
     "output_type": "execute_result"
    }
   ],
   "source": [
    "X_test_sc.shape"
   ]
  },
  {
   "cell_type": "code",
   "execution_count": 159,
   "metadata": {},
   "outputs": [],
   "source": [
    "es = EarlyStopping(\n",
    "    monitor=\"val_loss\",\n",
    "    patience=5,\n",
    "    min_delta=0\n",
    ")\n",
    "\n",
    "model = Sequential()\n",
    "model.add(layers.Dense(3321, activation='relu'))\n",
    "model.add(layers.Dropout(0.5))\n",
    "model.add(layers.Dense(128, activation='relu'))\n",
    "model.add(layers.Dropout(0.5))\n",
    "model.add(layers.Dense(64, activation='relu'))\n",
    "model.add(layers.Dropout(0.5))\n",
    "model.add(layers.Dense(10, activation='softmax'))\n",
    "model.compile(optimizer='adam',\n",
    "              loss='sparse_categorical_crossentropy',\n",
    "              metrics=['accuracy'])"
   ]
  },
  {
   "cell_type": "code",
   "execution_count": 160,
   "metadata": {},
   "outputs": [
    {
     "name": "stdout",
     "output_type": "stream",
     "text": [
      "Train on 3789 samples, validate on 948 samples\n",
      "Epoch 1/100\n",
      "3789/3789 [==============================] - 2s 456us/step - loss: 2.5774 - accuracy: 0.2338 - val_loss: 1.5517 - val_accuracy: 0.5643\n",
      "Epoch 2/100\n",
      "3789/3789 [==============================] - 2s 467us/step - loss: 2.2109 - accuracy: 0.3064 - val_loss: 1.5734 - val_accuracy: 0.6097\n",
      "Epoch 3/100\n",
      "3789/3789 [==============================] - 2s 436us/step - loss: 1.9331 - accuracy: 0.3576 - val_loss: 1.4978 - val_accuracy: 0.6382\n",
      "Epoch 4/100\n",
      "3789/3789 [==============================] - 2s 477us/step - loss: 1.8411 - accuracy: 0.3932 - val_loss: 1.2923 - val_accuracy: 0.6456\n",
      "Epoch 5/100\n",
      "3789/3789 [==============================] - 2s 478us/step - loss: 1.7464 - accuracy: 0.4339 - val_loss: 1.2491 - val_accuracy: 0.6709\n",
      "Epoch 6/100\n",
      "3789/3789 [==============================] - 2s 534us/step - loss: 1.6472 - accuracy: 0.4571 - val_loss: 1.2073 - val_accuracy: 0.6899\n",
      "Epoch 7/100\n",
      "3789/3789 [==============================] - 2s 542us/step - loss: 1.5254 - accuracy: 0.4993 - val_loss: 1.1373 - val_accuracy: 0.6878\n",
      "Epoch 8/100\n",
      "3789/3789 [==============================] - 2s 540us/step - loss: 1.4977 - accuracy: 0.5157 - val_loss: 1.1172 - val_accuracy: 0.7131\n",
      "Epoch 9/100\n",
      "3789/3789 [==============================] - 2s 548us/step - loss: 1.4094 - accuracy: 0.5574 - val_loss: 1.0489 - val_accuracy: 0.7162\n",
      "Epoch 10/100\n",
      "3789/3789 [==============================] - 2s 550us/step - loss: 1.3342 - accuracy: 0.5748 - val_loss: 1.0168 - val_accuracy: 0.7352\n",
      "Epoch 11/100\n",
      "3789/3789 [==============================] - 2s 591us/step - loss: 1.2646 - accuracy: 0.5872 - val_loss: 0.9967 - val_accuracy: 0.7426\n",
      "Epoch 12/100\n",
      "3789/3789 [==============================] - 2s 636us/step - loss: 1.2857 - accuracy: 0.6041 - val_loss: 1.0167 - val_accuracy: 0.7416\n",
      "Epoch 13/100\n",
      "3789/3789 [==============================] - 2s 636us/step - loss: 1.2093 - accuracy: 0.6181 - val_loss: 0.9517 - val_accuracy: 0.7511\n",
      "Epoch 14/100\n",
      "3789/3789 [==============================] - 3s 667us/step - loss: 1.1557 - accuracy: 0.6416 - val_loss: 0.9177 - val_accuracy: 0.7500\n",
      "Epoch 15/100\n",
      "3789/3789 [==============================] - 2s 633us/step - loss: 1.1473 - accuracy: 0.6545 - val_loss: 0.9673 - val_accuracy: 0.7395\n",
      "Epoch 16/100\n",
      "3789/3789 [==============================] - 2s 652us/step - loss: 1.1152 - accuracy: 0.6558 - val_loss: 0.9346 - val_accuracy: 0.7563\n",
      "Epoch 17/100\n",
      "3789/3789 [==============================] - 2s 633us/step - loss: 1.0565 - accuracy: 0.6817 - val_loss: 0.9294 - val_accuracy: 0.7690\n",
      "Epoch 18/100\n",
      "3789/3789 [==============================] - 3s 668us/step - loss: 1.0283 - accuracy: 0.6822 - val_loss: 0.9401 - val_accuracy: 0.7648\n",
      "Epoch 19/100\n",
      "3789/3789 [==============================] - 2s 633us/step - loss: 1.0165 - accuracy: 0.6862 - val_loss: 0.8968 - val_accuracy: 0.7648\n",
      "Epoch 20/100\n",
      "3789/3789 [==============================] - 2s 636us/step - loss: 0.9921 - accuracy: 0.6991 - val_loss: 0.9282 - val_accuracy: 0.7605\n",
      "Epoch 21/100\n",
      "3789/3789 [==============================] - 2s 648us/step - loss: 0.9776 - accuracy: 0.6975 - val_loss: 0.9466 - val_accuracy: 0.7637\n",
      "Epoch 22/100\n",
      "3789/3789 [==============================] - 2s 646us/step - loss: 0.9955 - accuracy: 0.6973 - val_loss: 0.9039 - val_accuracy: 0.7722\n",
      "Epoch 23/100\n",
      "3789/3789 [==============================] - 2s 628us/step - loss: 0.9313 - accuracy: 0.7047 - val_loss: 0.9094 - val_accuracy: 0.7711\n",
      "Epoch 24/100\n",
      "3789/3789 [==============================] - 2s 652us/step - loss: 0.9555 - accuracy: 0.7150 - val_loss: 0.9089 - val_accuracy: 0.7753\n",
      "Epoch 25/100\n",
      "3789/3789 [==============================] - 2s 609us/step - loss: 0.9191 - accuracy: 0.7171 - val_loss: 0.8896 - val_accuracy: 0.7753\n",
      "Epoch 26/100\n",
      "3789/3789 [==============================] - 3s 661us/step - loss: 0.8827 - accuracy: 0.7276 - val_loss: 0.8967 - val_accuracy: 0.7806\n",
      "Epoch 27/100\n",
      "3789/3789 [==============================] - 2s 636us/step - loss: 0.8947 - accuracy: 0.7287 - val_loss: 0.8565 - val_accuracy: 0.7774\n",
      "Epoch 28/100\n",
      "3789/3789 [==============================] - 2s 660us/step - loss: 0.8921 - accuracy: 0.7332 - val_loss: 0.9119 - val_accuracy: 0.7774\n",
      "Epoch 29/100\n",
      "3789/3789 [==============================] - 2s 651us/step - loss: 0.8544 - accuracy: 0.7358 - val_loss: 0.9064 - val_accuracy: 0.7743\n",
      "Epoch 30/100\n",
      "3789/3789 [==============================] - 3s 663us/step - loss: 0.8538 - accuracy: 0.7466 - val_loss: 0.9269 - val_accuracy: 0.7627\n",
      "Epoch 31/100\n",
      "3789/3789 [==============================] - 2s 608us/step - loss: 0.8073 - accuracy: 0.7532 - val_loss: 0.9130 - val_accuracy: 0.7764\n",
      "Epoch 32/100\n",
      "3789/3789 [==============================] - 3s 815us/step - loss: 0.8255 - accuracy: 0.7519 - val_loss: 0.8780 - val_accuracy: 0.7838\n",
      "Epoch 33/100\n",
      "3789/3789 [==============================] - 3s 720us/step - loss: 0.7808 - accuracy: 0.7472 - val_loss: 0.8628 - val_accuracy: 0.7869\n",
      "Epoch 34/100\n",
      "3789/3789 [==============================] - 3s 692us/step - loss: 0.7940 - accuracy: 0.7693 - val_loss: 0.8805 - val_accuracy: 0.7785\n",
      "Epoch 35/100\n",
      "3789/3789 [==============================] - 3s 740us/step - loss: 0.7995 - accuracy: 0.7582 - val_loss: 0.8459 - val_accuracy: 0.7795\n",
      "Epoch 36/100\n",
      "3789/3789 [==============================] - 3s 673us/step - loss: 0.7863 - accuracy: 0.7619 - val_loss: 0.9115 - val_accuracy: 0.7859\n",
      "Epoch 37/100\n",
      "3789/3789 [==============================] - 3s 706us/step - loss: 0.7853 - accuracy: 0.7693 - val_loss: 0.9039 - val_accuracy: 0.7732\n",
      "Epoch 38/100\n",
      "3789/3789 [==============================] - 3s 718us/step - loss: 0.7666 - accuracy: 0.7598 - val_loss: 0.8650 - val_accuracy: 0.7880\n",
      "Epoch 39/100\n",
      "3789/3789 [==============================] - 3s 662us/step - loss: 0.7661 - accuracy: 0.7612 - val_loss: 0.9222 - val_accuracy: 0.7774\n",
      "Epoch 40/100\n",
      "3789/3789 [==============================] - 3s 668us/step - loss: 0.7570 - accuracy: 0.7680 - val_loss: 0.9051 - val_accuracy: 0.7859\n",
      "Epoch 41/100\n",
      "3789/3789 [==============================] - 3s 718us/step - loss: 0.7340 - accuracy: 0.7704 - val_loss: 0.8898 - val_accuracy: 0.7890\n",
      "Epoch 42/100\n",
      "3789/3789 [==============================] - 3s 852us/step - loss: 0.7282 - accuracy: 0.7775 - val_loss: 0.9337 - val_accuracy: 0.7816\n",
      "Epoch 43/100\n",
      "3789/3789 [==============================] - 3s 778us/step - loss: 0.7554 - accuracy: 0.7641 - val_loss: 0.9472 - val_accuracy: 0.7732\n",
      "Epoch 44/100\n",
      "3789/3789 [==============================] - 3s 686us/step - loss: 0.7093 - accuracy: 0.7757 - val_loss: 0.9741 - val_accuracy: 0.7700\n",
      "Epoch 45/100\n",
      "3789/3789 [==============================] - 2s 619us/step - loss: 0.7427 - accuracy: 0.7728 - val_loss: 0.9735 - val_accuracy: 0.7848\n",
      "Epoch 46/100\n",
      "3789/3789 [==============================] - 2s 656us/step - loss: 0.7302 - accuracy: 0.7812 - val_loss: 0.9691 - val_accuracy: 0.7722\n",
      "Epoch 47/100\n",
      "3789/3789 [==============================] - 3s 670us/step - loss: 0.7237 - accuracy: 0.7746 - val_loss: 0.9579 - val_accuracy: 0.7764\n",
      "Epoch 48/100\n",
      "3789/3789 [==============================] - 3s 665us/step - loss: 0.7392 - accuracy: 0.7807 - val_loss: 0.9806 - val_accuracy: 0.7700\n",
      "Epoch 49/100\n",
      "3789/3789 [==============================] - 3s 663us/step - loss: 0.6942 - accuracy: 0.7894 - val_loss: 0.9648 - val_accuracy: 0.7901\n",
      "Epoch 50/100\n",
      "3789/3789 [==============================] - 2s 639us/step - loss: 0.6845 - accuracy: 0.7796 - val_loss: 0.9832 - val_accuracy: 0.7848\n",
      "Epoch 51/100\n",
      "3789/3789 [==============================] - 2s 615us/step - loss: 0.6750 - accuracy: 0.7899 - val_loss: 0.9639 - val_accuracy: 0.7911\n",
      "Epoch 52/100\n",
      "3789/3789 [==============================] - 2s 614us/step - loss: 0.6751 - accuracy: 0.7897 - val_loss: 0.9737 - val_accuracy: 0.7901\n",
      "Epoch 53/100\n",
      "3789/3789 [==============================] - 2s 633us/step - loss: 0.6721 - accuracy: 0.7978 - val_loss: 1.0191 - val_accuracy: 0.7827\n",
      "Epoch 54/100\n",
      "3789/3789 [==============================] - 2s 591us/step - loss: 0.6564 - accuracy: 0.7894 - val_loss: 0.9898 - val_accuracy: 0.7827\n",
      "Epoch 55/100\n",
      "3789/3789 [==============================] - 3s 673us/step - loss: 0.6824 - accuracy: 0.7836 - val_loss: 0.9848 - val_accuracy: 0.7880\n",
      "Epoch 56/100\n",
      "3789/3789 [==============================] - 2s 584us/step - loss: 0.6434 - accuracy: 0.7973 - val_loss: 1.0828 - val_accuracy: 0.7869\n",
      "Epoch 57/100\n",
      "3789/3789 [==============================] - 3s 662us/step - loss: 0.6453 - accuracy: 0.7989 - val_loss: 1.0920 - val_accuracy: 0.7764\n",
      "Epoch 58/100\n",
      "3789/3789 [==============================] - 2s 652us/step - loss: 0.6268 - accuracy: 0.8050 - val_loss: 1.0589 - val_accuracy: 0.7806\n",
      "Epoch 59/100\n",
      "3789/3789 [==============================] - 2s 628us/step - loss: 0.6249 - accuracy: 0.8134 - val_loss: 1.0217 - val_accuracy: 0.7816\n",
      "Epoch 60/100\n",
      "3789/3789 [==============================] - 3s 661us/step - loss: 0.6301 - accuracy: 0.8055 - val_loss: 1.0236 - val_accuracy: 0.7890\n",
      "Epoch 61/100\n",
      "3789/3789 [==============================] - 2s 647us/step - loss: 0.6523 - accuracy: 0.8068 - val_loss: 0.9779 - val_accuracy: 0.7911\n",
      "Epoch 62/100\n",
      "3789/3789 [==============================] - 2s 644us/step - loss: 0.5952 - accuracy: 0.8108 - val_loss: 1.0021 - val_accuracy: 0.7795\n",
      "Epoch 63/100\n",
      "3789/3789 [==============================] - 2s 632us/step - loss: 0.5939 - accuracy: 0.8182 - val_loss: 1.0062 - val_accuracy: 0.7890\n",
      "Epoch 64/100\n",
      "3789/3789 [==============================] - 2s 638us/step - loss: 0.5886 - accuracy: 0.8153 - val_loss: 1.0166 - val_accuracy: 0.7954\n",
      "Epoch 65/100\n",
      "3789/3789 [==============================] - 3s 684us/step - loss: 0.5929 - accuracy: 0.8126 - val_loss: 0.9883 - val_accuracy: 0.7943\n",
      "Epoch 66/100\n",
      "3789/3789 [==============================] - 2s 651us/step - loss: 0.5695 - accuracy: 0.8176 - val_loss: 0.9911 - val_accuracy: 0.7943\n",
      "Epoch 67/100\n",
      "3789/3789 [==============================] - 2s 636us/step - loss: 0.5730 - accuracy: 0.8232 - val_loss: 1.0315 - val_accuracy: 0.7880\n",
      "Epoch 68/100\n",
      "3789/3789 [==============================] - 2s 659us/step - loss: 0.5625 - accuracy: 0.8226 - val_loss: 1.0069 - val_accuracy: 0.7932\n",
      "Epoch 69/100\n",
      "3789/3789 [==============================] - 2s 604us/step - loss: 0.5433 - accuracy: 0.8287 - val_loss: 0.9973 - val_accuracy: 0.7838\n",
      "Epoch 70/100\n",
      "3789/3789 [==============================] - 2s 576us/step - loss: 0.5731 - accuracy: 0.8208 - val_loss: 1.0334 - val_accuracy: 0.7911\n",
      "Epoch 71/100\n",
      "3789/3789 [==============================] - 3s 661us/step - loss: 0.5246 - accuracy: 0.8300 - val_loss: 1.0667 - val_accuracy: 0.7922\n",
      "Epoch 72/100\n",
      "3789/3789 [==============================] - 2s 626us/step - loss: 0.5685 - accuracy: 0.8195 - val_loss: 1.0342 - val_accuracy: 0.7932\n",
      "Epoch 73/100\n",
      "3789/3789 [==============================] - 2s 596us/step - loss: 0.5763 - accuracy: 0.8179 - val_loss: 1.0143 - val_accuracy: 0.7932\n",
      "Epoch 74/100\n",
      "3789/3789 [==============================] - 2s 656us/step - loss: 0.5718 - accuracy: 0.8205 - val_loss: 1.0366 - val_accuracy: 0.7890\n",
      "Epoch 75/100\n",
      "3789/3789 [==============================] - 2s 605us/step - loss: 0.5743 - accuracy: 0.8213 - val_loss: 1.0578 - val_accuracy: 0.8006\n",
      "Epoch 76/100\n",
      "3789/3789 [==============================] - 2s 638us/step - loss: 0.5331 - accuracy: 0.8327 - val_loss: 1.0390 - val_accuracy: 0.7996\n",
      "Epoch 77/100\n",
      "3789/3789 [==============================] - 2s 624us/step - loss: 0.5187 - accuracy: 0.8364 - val_loss: 1.0558 - val_accuracy: 0.8017\n",
      "Epoch 78/100\n",
      "3789/3789 [==============================] - 2s 630us/step - loss: 0.5251 - accuracy: 0.8327 - val_loss: 1.0113 - val_accuracy: 0.8006\n",
      "Epoch 79/100\n",
      "3789/3789 [==============================] - 2s 580us/step - loss: 0.5272 - accuracy: 0.8377 - val_loss: 1.0094 - val_accuracy: 0.7922\n",
      "Epoch 80/100\n",
      "3789/3789 [==============================] - 2s 628us/step - loss: 0.5101 - accuracy: 0.8335 - val_loss: 1.1303 - val_accuracy: 0.7901\n",
      "Epoch 81/100\n",
      "3789/3789 [==============================] - 2s 579us/step - loss: 0.5083 - accuracy: 0.8393 - val_loss: 1.1975 - val_accuracy: 0.7943\n",
      "Epoch 82/100\n",
      "3789/3789 [==============================] - 2s 605us/step - loss: 0.5080 - accuracy: 0.8427 - val_loss: 1.0654 - val_accuracy: 0.7901\n",
      "Epoch 83/100\n",
      "3789/3789 [==============================] - 2s 629us/step - loss: 0.5175 - accuracy: 0.8337 - val_loss: 1.0681 - val_accuracy: 0.7880\n",
      "Epoch 84/100\n",
      "3789/3789 [==============================] - 2s 652us/step - loss: 0.5265 - accuracy: 0.8372 - val_loss: 1.1229 - val_accuracy: 0.7932\n",
      "Epoch 85/100\n",
      "3789/3789 [==============================] - 2s 599us/step - loss: 0.5337 - accuracy: 0.8298 - val_loss: 1.0605 - val_accuracy: 0.7911\n",
      "Epoch 86/100\n",
      "3789/3789 [==============================] - 3s 682us/step - loss: 0.5067 - accuracy: 0.8308 - val_loss: 1.0772 - val_accuracy: 0.7838\n",
      "Epoch 87/100\n",
      "3789/3789 [==============================] - 2s 607us/step - loss: 0.5045 - accuracy: 0.8387 - val_loss: 1.1129 - val_accuracy: 0.7785\n",
      "Epoch 88/100\n",
      "3789/3789 [==============================] - 2s 630us/step - loss: 0.5193 - accuracy: 0.8393 - val_loss: 1.1734 - val_accuracy: 0.7869\n",
      "Epoch 89/100\n",
      "3789/3789 [==============================] - 2s 574us/step - loss: 0.4865 - accuracy: 0.8448 - val_loss: 1.1271 - val_accuracy: 0.7954\n",
      "Epoch 90/100\n",
      "3789/3789 [==============================] - 2s 595us/step - loss: 0.5183 - accuracy: 0.8372 - val_loss: 1.0536 - val_accuracy: 0.7985\n",
      "Epoch 91/100\n",
      "3789/3789 [==============================] - 2s 570us/step - loss: 0.5121 - accuracy: 0.8438 - val_loss: 1.1164 - val_accuracy: 0.7890\n",
      "Epoch 92/100\n",
      "3789/3789 [==============================] - 2s 636us/step - loss: 0.4925 - accuracy: 0.8477 - val_loss: 1.1837 - val_accuracy: 0.7869\n",
      "Epoch 93/100\n",
      "3789/3789 [==============================] - 2s 630us/step - loss: 0.4802 - accuracy: 0.8467 - val_loss: 1.2307 - val_accuracy: 0.7901\n",
      "Epoch 94/100\n",
      "3789/3789 [==============================] - 2s 652us/step - loss: 0.4806 - accuracy: 0.8475 - val_loss: 1.1737 - val_accuracy: 0.7859\n",
      "Epoch 95/100\n",
      "3789/3789 [==============================] - 2s 652us/step - loss: 0.4818 - accuracy: 0.8443 - val_loss: 1.1581 - val_accuracy: 0.7869\n",
      "Epoch 96/100\n",
      "3789/3789 [==============================] - 2s 599us/step - loss: 0.4582 - accuracy: 0.8509 - val_loss: 1.1563 - val_accuracy: 0.7943\n",
      "Epoch 97/100\n",
      "3789/3789 [==============================] - 2s 600us/step - loss: 0.4463 - accuracy: 0.8567 - val_loss: 1.1847 - val_accuracy: 0.7880\n",
      "Epoch 98/100\n",
      "3789/3789 [==============================] - 2s 550us/step - loss: 0.4610 - accuracy: 0.8567 - val_loss: 1.1714 - val_accuracy: 0.7911\n",
      "Epoch 99/100\n",
      "3789/3789 [==============================] - 2s 626us/step - loss: 0.4460 - accuracy: 0.8575 - val_loss: 1.2175 - val_accuracy: 0.7911\n",
      "Epoch 100/100\n",
      "3789/3789 [==============================] - 2s 616us/step - loss: 0.4437 - accuracy: 0.8543 - val_loss: 1.1148 - val_accuracy: 0.7943\n"
     ]
    }
   ],
   "source": [
    "classifier = model.fit(X_train_sc,\n",
    "                    y_train,\n",
    "                    epochs=100,\n",
    "                    batch_size=500,\n",
    "                    validation_data=(X_test_sc,y_test),\n",
    "#                     callbacks=[es],\n",
    "                    verbose=1)"
   ]
  },
  {
   "cell_type": "code",
   "execution_count": 161,
   "metadata": {},
   "outputs": [
    {
     "data": {
      "image/png": "[encoded data removed]",
      "text/plain": [
       "<Figure size 864x576 with 1 Axes>"
      ]
     },
     "metadata": {
      "needs_background": "light"
     },
     "output_type": "display_data"
    }
   ],
   "source": [
    "train_loss = classifier.history['loss']\n",
    "test_loss = classifier.history['val_loss']\n",
    "plt.figure(figsize=(12, 8))\n",
    "plt.plot(train_loss, label='Training loss', color='blue')\n",
    "plt.plot(test_loss, label='Testing loss', color='red')\n",
    "plt.legend();"
   ]
  },
  {
   "cell_type": "code",
   "execution_count": 162,
   "metadata": {},
   "outputs": [],
   "source": [
    "j = y_test == model.predict_classes(X_test_sc)"
   ]
  },
  {
   "cell_type": "code",
   "execution_count": 163,
   "metadata": {},
   "outputs": [],
   "source": [
    "correct = 0\n",
    "incorrect = 0 \n",
    "for i in j:\n",
    "    if i :\n",
    "        correct += 1\n",
    "    else:\n",
    "        incorrect += 1"
   ]
  },
  {
   "cell_type": "code",
   "execution_count": 164,
   "metadata": {},
   "outputs": [
    {
     "data": {
      "text/plain": [
       "753"
      ]
     },
     "execution_count": 164,
     "metadata": {},
     "output_type": "execute_result"
    }
   ],
   "source": [
    "correct"
   ]
  },
  {
   "cell_type": "code",
   "execution_count": 165,
   "metadata": {},
   "outputs": [
    {
     "data": {
      "text/plain": [
       "195"
      ]
     },
     "execution_count": 165,
     "metadata": {},
     "output_type": "execute_result"
    }
   ],
   "source": [
    "incorrect"
   ]
  },
  {
   "cell_type": "code",
   "execution_count": 166,
   "metadata": {},
   "outputs": [
    {
     "data": {
      "text/plain": [
       "79.43037974683544"
      ]
     },
     "execution_count": 166,
     "metadata": {},
     "output_type": "execute_result"
    }
   ],
   "source": [
    "(correct / (correct+incorrect))*100"
   ]
  },
  {
   "cell_type": "code",
   "execution_count": 167,
   "metadata": {},
   "outputs": [],
   "source": [
    "target_names = encoder.inverse_transform(pd.Series(y_test).sort_values().unique())"
   ]
  },
  {
   "cell_type": "code",
   "execution_count": 168,
   "metadata": {
    "scrolled": true
   },
   "outputs": [
    {
     "name": "stdout",
     "output_type": "stream",
     "text": [
      "                          precision    recall  f1-score   support\n",
      "\n",
      "       Black-headed_gull       0.83      0.79      0.81       100\n",
      "Brown-crested_flycatcher       0.93      0.89      0.91        96\n",
      "            Common_raven       0.94      0.77      0.85       100\n",
      "  Eurasian_collared-dove       0.86      0.85      0.86        98\n",
      "        Eurasian_skylark       0.80      0.78      0.79        98\n",
      "           House_sparrow       0.76      0.71      0.73       100\n",
      "                 Mallard       0.84      0.81      0.82        93\n",
      "      Olive-backed_pipit       0.85      0.87      0.86        95\n",
      "           Red_crossbill       0.85      0.70      0.77        99\n",
      "          Warbling_vireo       0.43      0.80      0.56        69\n",
      "\n",
      "                accuracy                           0.79       948\n",
      "               macro avg       0.81      0.80      0.80       948\n",
      "            weighted avg       0.82      0.79      0.80       948\n",
      "\n"
     ]
    }
   ],
   "source": [
    "print(classification_report(y_test, model.predict_classes(X_test_sc), target_names=target_names))"
   ]
  },
  {
   "cell_type": "code",
   "execution_count": null,
   "metadata": {},
   "outputs": [],
   "source": []
  }
 ],
 "metadata": {
  "kernelspec": {
   "display_name": "Python 3",
   "language": "python",
   "name": "python3"
  },
  "language_info": {
   "codemirror_mode": {
    "name": "ipython",
    "version": 3
   },
   "file_extension": ".py",
   "mimetype": "text/x-python",
   "name": "python",
   "nbconvert_exporter": "python",
   "pygments_lexer": "ipython3",
   "version": "3.7.4"
  }
 },
 "nbformat": 4,
 "nbformat_minor": 2
}
