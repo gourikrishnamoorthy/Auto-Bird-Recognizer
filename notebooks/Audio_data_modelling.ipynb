{
 "cells": [
  {
   "cell_type": "code",
   "execution_count": 1,
   "metadata": {},
   "outputs": [
    {
     "name": "stderr",
     "output_type": "stream",
     "text": [
      "Using TensorFlow backend.\n"
     ]
    }
   ],
   "source": [
    "import librosa\n",
    "import pandas as pd\n",
    "import numpy as np\n",
    "import matplotlib.pyplot as plt\n",
    "%matplotlib inline\n",
    "from sklearn.model_selection import train_test_split\n",
    "from sklearn.preprocessing import LabelEncoder, StandardScaler, PolynomialFeatures\n",
    "from keras import layers\n",
    "from keras.models import Sequential\n",
    "from tensorflow.keras.layers import Dense, Dropout\n",
    "from tensorflow.keras.callbacks import EarlyStopping\n",
    "from tensorflow.keras.models import Model\n",
    "from sklearn.metrics import classification_report, roc_curve\n",
    "from keras.models import load_model\n",
    "import warnings\n",
    "warnings.filterwarnings('ignore')"
   ]
  },
  {
   "cell_type": "code",
   "execution_count": 2,
   "metadata": {},
   "outputs": [
    {
     "data": {
      "text/html": [
       "<div>\n",
       "<style scoped>\n",
       "    .dataframe tbody tr th:only-of-type {\n",
       "        vertical-align: middle;\n",
       "    }\n",
       "\n",
       "    .dataframe tbody tr th {\n",
       "        vertical-align: top;\n",
       "    }\n",
       "\n",
       "    .dataframe thead th {\n",
       "        text-align: right;\n",
       "    }\n",
       "</style>\n",
       "<table border=\"1\" class=\"dataframe\">\n",
       "  <thead>\n",
       "    <tr style=\"text-align: right;\">\n",
       "      <th></th>\n",
       "      <th>birdSound</th>\n",
       "      <th>sound_median</th>\n",
       "      <th>sound_mean</th>\n",
       "      <th>sound_std</th>\n",
       "      <th>chroma_stft_median</th>\n",
       "      <th>chroma_stft_mean</th>\n",
       "      <th>chroma_stft_std</th>\n",
       "      <th>rms_median</th>\n",
       "      <th>rms_mean</th>\n",
       "      <th>rms_std</th>\n",
       "      <th>...</th>\n",
       "      <th>mfcc_median18</th>\n",
       "      <th>mfcc_mean18</th>\n",
       "      <th>mfcc_std18</th>\n",
       "      <th>mfcc_median19</th>\n",
       "      <th>mfcc_mean19</th>\n",
       "      <th>mfcc_std19</th>\n",
       "      <th>mfcc_median20</th>\n",
       "      <th>mfcc_mean20</th>\n",
       "      <th>mfcc_std20</th>\n",
       "      <th>label</th>\n",
       "    </tr>\n",
       "  </thead>\n",
       "  <tbody>\n",
       "    <tr>\n",
       "      <th>0</th>\n",
       "      <td>351230.mp3</td>\n",
       "      <td>0.000000e+00</td>\n",
       "      <td>-6.142107e-05</td>\n",
       "      <td>0.012161</td>\n",
       "      <td>0.596200</td>\n",
       "      <td>0.529412</td>\n",
       "      <td>0.342621</td>\n",
       "      <td>0.002863</td>\n",
       "      <td>0.005909</td>\n",
       "      <td>0.010629</td>\n",
       "      <td>...</td>\n",
       "      <td>6.046153</td>\n",
       "      <td>5.956075</td>\n",
       "      <td>5.962350</td>\n",
       "      <td>9.087703</td>\n",
       "      <td>9.135355</td>\n",
       "      <td>6.044546</td>\n",
       "      <td>8.104885</td>\n",
       "      <td>8.139686</td>\n",
       "      <td>5.670450</td>\n",
       "      <td>Red_crossbill</td>\n",
       "    </tr>\n",
       "    <tr>\n",
       "      <th>1</th>\n",
       "      <td>365803.mp3</td>\n",
       "      <td>3.176906e-07</td>\n",
       "      <td>-8.101284e-09</td>\n",
       "      <td>0.035807</td>\n",
       "      <td>0.391162</td>\n",
       "      <td>0.424132</td>\n",
       "      <td>0.311685</td>\n",
       "      <td>0.006933</td>\n",
       "      <td>0.022807</td>\n",
       "      <td>0.027601</td>\n",
       "      <td>...</td>\n",
       "      <td>2.963391</td>\n",
       "      <td>3.257329</td>\n",
       "      <td>6.337379</td>\n",
       "      <td>9.306860</td>\n",
       "      <td>9.189724</td>\n",
       "      <td>6.112482</td>\n",
       "      <td>-1.249606</td>\n",
       "      <td>-1.692509</td>\n",
       "      <td>5.749753</td>\n",
       "      <td>Red_crossbill</td>\n",
       "    </tr>\n",
       "    <tr>\n",
       "      <th>2</th>\n",
       "      <td>364248.mp3</td>\n",
       "      <td>0.000000e+00</td>\n",
       "      <td>7.826290e-08</td>\n",
       "      <td>0.023321</td>\n",
       "      <td>0.500404</td>\n",
       "      <td>0.506566</td>\n",
       "      <td>0.294321</td>\n",
       "      <td>0.003329</td>\n",
       "      <td>0.010292</td>\n",
       "      <td>0.020916</td>\n",
       "      <td>...</td>\n",
       "      <td>6.002545</td>\n",
       "      <td>6.172754</td>\n",
       "      <td>4.921592</td>\n",
       "      <td>-2.660161</td>\n",
       "      <td>-2.276274</td>\n",
       "      <td>3.988553</td>\n",
       "      <td>5.196372</td>\n",
       "      <td>5.018038</td>\n",
       "      <td>4.176434</td>\n",
       "      <td>Red_crossbill</td>\n",
       "    </tr>\n",
       "    <tr>\n",
       "      <th>3</th>\n",
       "      <td>512152.mp3</td>\n",
       "      <td>2.295497e-05</td>\n",
       "      <td>4.515932e-05</td>\n",
       "      <td>0.009364</td>\n",
       "      <td>0.831979</td>\n",
       "      <td>0.799930</td>\n",
       "      <td>0.171446</td>\n",
       "      <td>0.008113</td>\n",
       "      <td>0.008701</td>\n",
       "      <td>0.003462</td>\n",
       "      <td>...</td>\n",
       "      <td>8.155019</td>\n",
       "      <td>7.944302</td>\n",
       "      <td>4.671725</td>\n",
       "      <td>6.125269</td>\n",
       "      <td>6.154128</td>\n",
       "      <td>4.302269</td>\n",
       "      <td>8.689074</td>\n",
       "      <td>8.654900</td>\n",
       "      <td>4.420681</td>\n",
       "      <td>Red_crossbill</td>\n",
       "    </tr>\n",
       "    <tr>\n",
       "      <th>4</th>\n",
       "      <td>365803.mp3</td>\n",
       "      <td>3.176906e-07</td>\n",
       "      <td>-8.101284e-09</td>\n",
       "      <td>0.035807</td>\n",
       "      <td>0.391162</td>\n",
       "      <td>0.424132</td>\n",
       "      <td>0.311685</td>\n",
       "      <td>0.006933</td>\n",
       "      <td>0.022807</td>\n",
       "      <td>0.027601</td>\n",
       "      <td>...</td>\n",
       "      <td>2.963391</td>\n",
       "      <td>3.257329</td>\n",
       "      <td>6.337379</td>\n",
       "      <td>9.306860</td>\n",
       "      <td>9.189724</td>\n",
       "      <td>6.112482</td>\n",
       "      <td>-1.249606</td>\n",
       "      <td>-1.692509</td>\n",
       "      <td>5.749753</td>\n",
       "      <td>Red_crossbill</td>\n",
       "    </tr>\n",
       "  </tbody>\n",
       "</table>\n",
       "<p>5 rows × 83 columns</p>\n",
       "</div>"
      ],
      "text/plain": [
       "    birdSound  sound_median    sound_mean  sound_std  chroma_stft_median  \\\n",
       "0  351230.mp3  0.000000e+00 -6.142107e-05   0.012161            0.596200   \n",
       "1  365803.mp3  3.176906e-07 -8.101284e-09   0.035807            0.391162   \n",
       "2  364248.mp3  0.000000e+00  7.826290e-08   0.023321            0.500404   \n",
       "3  512152.mp3  2.295497e-05  4.515932e-05   0.009364            0.831979   \n",
       "4  365803.mp3  3.176906e-07 -8.101284e-09   0.035807            0.391162   \n",
       "\n",
       "   chroma_stft_mean  chroma_stft_std  rms_median  rms_mean   rms_std  ...  \\\n",
       "0          0.529412         0.342621    0.002863  0.005909  0.010629  ...   \n",
       "1          0.424132         0.311685    0.006933  0.022807  0.027601  ...   \n",
       "2          0.506566         0.294321    0.003329  0.010292  0.020916  ...   \n",
       "3          0.799930         0.171446    0.008113  0.008701  0.003462  ...   \n",
       "4          0.424132         0.311685    0.006933  0.022807  0.027601  ...   \n",
       "\n",
       "   mfcc_median18  mfcc_mean18  mfcc_std18  mfcc_median19  mfcc_mean19  \\\n",
       "0       6.046153     5.956075    5.962350       9.087703     9.135355   \n",
       "1       2.963391     3.257329    6.337379       9.306860     9.189724   \n",
       "2       6.002545     6.172754    4.921592      -2.660161    -2.276274   \n",
       "3       8.155019     7.944302    4.671725       6.125269     6.154128   \n",
       "4       2.963391     3.257329    6.337379       9.306860     9.189724   \n",
       "\n",
       "   mfcc_std19  mfcc_median20  mfcc_mean20  mfcc_std20          label  \n",
       "0    6.044546       8.104885     8.139686    5.670450  Red_crossbill  \n",
       "1    6.112482      -1.249606    -1.692509    5.749753  Red_crossbill  \n",
       "2    3.988553       5.196372     5.018038    4.176434  Red_crossbill  \n",
       "3    4.302269       8.689074     8.654900    4.420681  Red_crossbill  \n",
       "4    6.112482      -1.249606    -1.692509    5.749753  Red_crossbill  \n",
       "\n",
       "[5 rows x 83 columns]"
      ]
     },
     "execution_count": 2,
     "metadata": {},
     "output_type": "execute_result"
    }
   ],
   "source": [
    "data = pd.read_csv('bird_data.csv')\n",
    "data.head()# Dropping unneccesary columns"
   ]
  },
  {
   "cell_type": "code",
   "execution_count": 3,
   "metadata": {},
   "outputs": [
    {
     "data": {
      "text/plain": [
       "(9370, 83)"
      ]
     },
     "execution_count": 3,
     "metadata": {},
     "output_type": "execute_result"
    }
   ],
   "source": [
    "data.shape"
   ]
  },
  {
   "cell_type": "code",
   "execution_count": 6,
   "metadata": {},
   "outputs": [],
   "source": [
    "import seaborn as sns"
   ]
  },
  {
   "cell_type": "code",
   "execution_count": 8,
   "metadata": {},
   "outputs": [],
   "source": [
    "bird_list = data.iloc[:, -1]\n",
    "encoder = LabelEncoder()\n",
    "y = encoder.fit_transform(bird_list)\n",
    "X_train, X_test, y_train, y_test = train_test_split(data.iloc[:, :-1], y, test_size=0.20, stratify=y)"
   ]
  },
  {
   "cell_type": "code",
   "execution_count": 21,
   "metadata": {},
   "outputs": [
    {
     "data": {
      "image/png": "[encoded data removed]",
      "text/plain": [
       "<Figure size 576x576 with 1 Axes>"
      ]
     },
     "metadata": {
      "needs_background": "light"
     },
     "output_type": "display_data"
    }
   ],
   "source": [
    "plt.figure(figsize=(8,8))\n",
    "sns.distplot(y, kde=False, rug=True);\n",
    "plt.xlabel(\"Bird Species\")\n",
    "plt.ylabel(\"No of recordings for train data\");"
   ]
  },
  {
   "cell_type": "code",
   "execution_count": 22,
   "metadata": {},
   "outputs": [
    {
     "data": {
      "image/png": "[encoded data removed]",
      "text/plain": [
       "<Figure size 576x576 with 1 Axes>"
      ]
     },
     "metadata": {
      "needs_background": "light"
     },
     "output_type": "display_data"
    }
   ],
   "source": [
    "plt.figure(figsize=(8,8))\n",
    "sns.distplot(y_test, kde=False, rug=True);\n",
    "plt.xlabel(\"Bird Species\")\n",
    "plt.ylabel(\"No of recordings for test data\");"
   ]
  },
  {
   "cell_type": "code",
   "execution_count": 28,
   "metadata": {},
   "outputs": [],
   "source": [
    "X_test[\"label\"] = encoder.inverse_transform(y_test)\n",
    "X_train[\"label\"] = encoder.inverse_transform(y_train)"
   ]
  },
  {
   "cell_type": "code",
   "execution_count": 29,
   "metadata": {},
   "outputs": [],
   "source": [
    "X_test.to_csv('test_bird_data.csv', index=False)\n",
    "X_train.to_csv('train_bird_data.csv', index=False)"
   ]
  },
  {
   "cell_type": "code",
   "execution_count": 30,
   "metadata": {},
   "outputs": [],
   "source": [
    "X_train.drop(columns=['birdSound', 'label'], inplace=True)\n",
    "X_test.drop(columns=['birdSound', 'label'], inplace=True)"
   ]
  },
  {
   "cell_type": "code",
   "execution_count": 31,
   "metadata": {},
   "outputs": [],
   "source": [
    "poly = PolynomialFeatures(include_bias=False, interaction_only=True)"
   ]
  },
  {
   "cell_type": "code",
   "execution_count": 32,
   "metadata": {},
   "outputs": [],
   "source": [
    "X_train_poly = poly.fit_transform(X_train)\n",
    "X_test_poly = poly.transform(X_test)"
   ]
  },
  {
   "cell_type": "code",
   "execution_count": 33,
   "metadata": {},
   "outputs": [],
   "source": [
    "X_train_poly_df = pd.DataFrame(X_train_poly, columns=poly.get_feature_names(data.iloc[:, :-1].columns))\n",
    "X_test_poly_df = pd.DataFrame(X_test_poly, columns=poly.get_feature_names(data.iloc[:, :-1].columns))"
   ]
  },
  {
   "cell_type": "code",
   "execution_count": 34,
   "metadata": {},
   "outputs": [
    {
     "data": {
      "text/plain": [
       "3321"
      ]
     },
     "execution_count": 34,
     "metadata": {},
     "output_type": "execute_result"
    }
   ],
   "source": [
    "len(X_train_poly_df.columns)"
   ]
  },
  {
   "cell_type": "code",
   "execution_count": 35,
   "metadata": {},
   "outputs": [],
   "source": [
    "X_train_ar = np.array(X_train_poly_df, dtype = float)\n",
    "X_test_ar = np.array(X_test_poly_df, dtype = float)"
   ]
  },
  {
   "cell_type": "code",
   "execution_count": 36,
   "metadata": {},
   "outputs": [],
   "source": [
    "scaler = StandardScaler()\n",
    "X_train_sc = scaler.fit_transform(X_train_ar)#Dividing data into training and Testing set\n",
    "X_test_sc = scaler.transform(X_test_ar)"
   ]
  },
  {
   "cell_type": "code",
   "execution_count": 37,
   "metadata": {},
   "outputs": [
    {
     "data": {
      "text/plain": [
       "2     640\n",
       "4     503\n",
       "0     502\n",
       "16    501\n",
       "15    500\n",
       "12    499\n",
       "10    498\n",
       "9     494\n",
       "1     483\n",
       "13    471\n",
       "19    457\n",
       "11    450\n",
       "7     430\n",
       "3     418\n",
       "6     395\n",
       "8     392\n",
       "14    386\n",
       "18    357\n",
       "17    355\n",
       "5     333\n",
       "20    306\n",
       "dtype: int64"
      ]
     },
     "execution_count": 37,
     "metadata": {},
     "output_type": "execute_result"
    }
   ],
   "source": [
    "pd.Series(y).value_counts()"
   ]
  },
  {
   "cell_type": "code",
   "execution_count": 38,
   "metadata": {},
   "outputs": [],
   "source": [
    "model = Sequential()\n",
    "model.add(layers.Dense(1000, activation='relu'))\n",
    "model.add(layers.Dropout(0.50))\n",
    "model.add(layers.Dense(64, activation='relu'))\n",
    "model.add(layers.Dropout(0.50))\n",
    "model.add(layers.Dense(21, activation='softmax'))\n",
    "model.compile(optimizer='adam',\n",
    "              loss='sparse_categorical_crossentropy',\n",
    "              metrics=['accuracy'])"
   ]
  },
  {
   "cell_type": "code",
   "execution_count": 39,
   "metadata": {},
   "outputs": [],
   "source": [
    "classifier = model.fit(X_train_sc,\n",
    "                    y_train,\n",
    "                    epochs=200,\n",
    "                    batch_size=500,\n",
    "                    validation_data=(X_test_sc,y_test),\n",
    "                    verbose=0)"
   ]
  },
  {
   "cell_type": "code",
   "execution_count": 40,
   "metadata": {},
   "outputs": [
    {
     "data": {
      "image/png": "[encoded data removed]",
      "text/plain": [
       "<Figure size 576x576 with 1 Axes>"
      ]
     },
     "metadata": {
      "needs_background": "light"
     },
     "output_type": "display_data"
    }
   ],
   "source": [
    "train_loss = classifier.history['loss']\n",
    "test_loss = classifier.history['val_loss']\n",
    "plt.figure(figsize=(8, 8))\n",
    "plt.plot(train_loss, label='Training loss', color='blue')\n",
    "plt.plot(test_loss, label='Testing loss', color='red')\n",
    "plt.legend();"
   ]
  },
  {
   "cell_type": "code",
   "execution_count": 41,
   "metadata": {},
   "outputs": [
    {
     "data": {
      "text/plain": [
       "array([ 8, 18, 20, ..., 17, 20, 17])"
      ]
     },
     "execution_count": 41,
     "metadata": {},
     "output_type": "execute_result"
    }
   ],
   "source": [
    "y_test"
   ]
  },
  {
   "cell_type": "code",
   "execution_count": 42,
   "metadata": {},
   "outputs": [
    {
     "data": {
      "text/plain": [
       "array([ 5, 18, 20, ..., 17,  3, 17])"
      ]
     },
     "execution_count": 42,
     "metadata": {},
     "output_type": "execute_result"
    }
   ],
   "source": [
    "model.predict_classes(X_test_sc)"
   ]
  },
  {
   "cell_type": "code",
   "execution_count": 43,
   "metadata": {},
   "outputs": [],
   "source": [
    "j = y_test == model.predict_classes(X_test_sc)"
   ]
  },
  {
   "cell_type": "code",
   "execution_count": 44,
   "metadata": {},
   "outputs": [],
   "source": [
    "correct = 0\n",
    "incorrect = 0 \n",
    "for i in j:\n",
    "    if i :\n",
    "        correct += 1\n",
    "    else:\n",
    "        incorrect += 1"
   ]
  },
  {
   "cell_type": "code",
   "execution_count": 45,
   "metadata": {},
   "outputs": [
    {
     "data": {
      "text/plain": [
       "1380"
      ]
     },
     "execution_count": 45,
     "metadata": {},
     "output_type": "execute_result"
    }
   ],
   "source": [
    "correct"
   ]
  },
  {
   "cell_type": "code",
   "execution_count": 46,
   "metadata": {},
   "outputs": [
    {
     "data": {
      "text/plain": [
       "494"
      ]
     },
     "execution_count": 46,
     "metadata": {},
     "output_type": "execute_result"
    }
   ],
   "source": [
    "incorrect"
   ]
  },
  {
   "cell_type": "code",
   "execution_count": 47,
   "metadata": {},
   "outputs": [
    {
     "data": {
      "text/plain": [
       "(1874,)"
      ]
     },
     "execution_count": 47,
     "metadata": {},
     "output_type": "execute_result"
    }
   ],
   "source": [
    "y_test.shape"
   ]
  },
  {
   "cell_type": "code",
   "execution_count": 48,
   "metadata": {},
   "outputs": [
    {
     "data": {
      "text/plain": [
       "73.63927427961579"
      ]
     },
     "execution_count": 48,
     "metadata": {},
     "output_type": "execute_result"
    }
   ],
   "source": [
    "(correct / (correct+incorrect))*100"
   ]
  },
  {
   "cell_type": "code",
   "execution_count": 49,
   "metadata": {},
   "outputs": [],
   "source": [
    "model.save(\"21BirdsModel.h5\")"
   ]
  },
  {
   "cell_type": "code",
   "execution_count": 50,
   "metadata": {},
   "outputs": [],
   "source": [
    "model_load = load_model('21BirdsModel.h5')"
   ]
  },
  {
   "cell_type": "code",
   "execution_count": 51,
   "metadata": {},
   "outputs": [],
   "source": [
    "y_pred_2 = model_load.predict_classes(X_test_sc)"
   ]
  },
  {
   "cell_type": "code",
   "execution_count": 52,
   "metadata": {},
   "outputs": [],
   "source": [
    "target_names = encoder.inverse_transform(pd.Series(y_test).sort_values().unique())"
   ]
  },
  {
   "cell_type": "code",
   "execution_count": 53,
   "metadata": {},
   "outputs": [
    {
     "name": "stdout",
     "output_type": "stream",
     "text": [
      "                          precision    recall  f1-score   support\n",
      "\n",
      "       Black-headed_gull       0.78      0.77      0.77       100\n",
      "Brown-crested_flycatcher       0.79      0.67      0.73        97\n",
      "            Canada_goose       0.88      0.88      0.88       128\n",
      "            Common_crane       0.86      0.82      0.84        84\n",
      "            Common_raven       0.75      0.73      0.74       101\n",
      "             Common_tern       0.72      0.70      0.71        67\n",
      "   Curve-billed_thrasher       0.85      0.65      0.73        79\n",
      "         Dark-eyed_junco       0.50      0.70      0.59        86\n",
      " Dusky-capped_flycatcher       0.54      0.64      0.59        78\n",
      "  Eurasian_collared-dove       0.87      0.85      0.86        99\n",
      "        Eurasian_skylark       0.60      0.72      0.65       100\n",
      "            Gray_wagtail       0.77      0.71      0.74        90\n",
      "           House_sparrow       0.71      0.70      0.70       100\n",
      "                 Mallard       0.72      0.83      0.77        94\n",
      "              Marsh_wren       0.70      0.74      0.72        77\n",
      "      Olive-backed_pipit       0.71      0.77      0.74       100\n",
      "           Red_crossbill       0.71      0.72      0.71       100\n",
      "    Ring-necked_pheasant       0.80      0.58      0.67        71\n",
      "       Tropical_kingbird       0.82      0.85      0.83        71\n",
      "          Warbling_vireo       0.84      0.67      0.74        91\n",
      "            Whooper_swan       0.75      0.64      0.69        61\n",
      "\n",
      "                accuracy                           0.74      1874\n",
      "               macro avg       0.75      0.73      0.73      1874\n",
      "            weighted avg       0.75      0.74      0.74      1874\n",
      "\n"
     ]
    }
   ],
   "source": [
    "print(classification_report(y_test, model_load.predict_classes(X_test_sc), target_names=target_names))"
   ]
  },
  {
   "cell_type": "code",
   "execution_count": 55,
   "metadata": {},
   "outputs": [],
   "source": [
    "X_test = pd.read_csv('test_bird_data.csv')"
   ]
  },
  {
   "cell_type": "code",
   "execution_count": 59,
   "metadata": {},
   "outputs": [],
   "source": [
    "pred_vals = encoder.inverse_transform(model_load.predict_classes(X_test_sc))"
   ]
  },
  {
   "cell_type": "code",
   "execution_count": 60,
   "metadata": {},
   "outputs": [],
   "source": [
    "X_test[\"preds\"] = pred_vals"
   ]
  },
  {
   "cell_type": "code",
   "execution_count": 62,
   "metadata": {},
   "outputs": [],
   "source": [
    "X_test = X_test[X_test[\"preds\"] == X_test[\"label\"]]"
   ]
  },
  {
   "cell_type": "code",
   "execution_count": 63,
   "metadata": {},
   "outputs": [],
   "source": [
    "X_test.to_csv('test_bird_data.csv', index=False)"
   ]
  },
  {
   "cell_type": "code",
   "execution_count": null,
   "metadata": {},
   "outputs": [],
   "source": []
  }
 ],
 "metadata": {
  "kernelspec": {
   "display_name": "Python 3",
   "language": "python",
   "name": "python3"
  },
  "language_info": {
   "codemirror_mode": {
    "name": "ipython",
    "version": 3
   },
   "file_extension": ".py",
   "mimetype": "text/x-python",
   "name": "python",
   "nbconvert_exporter": "python",
   "pygments_lexer": "ipython3",
   "version": "3.7.4"
  }
 },
 "nbformat": 4,
 "nbformat_minor": 2
}
