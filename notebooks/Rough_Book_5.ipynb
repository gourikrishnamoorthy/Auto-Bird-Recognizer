{
 "cells": [
  {
   "cell_type": "code",
   "execution_count": 1,
   "metadata": {},
   "outputs": [
    {
     "name": "stderr",
     "output_type": "stream",
     "text": [
      "Using TensorFlow backend.\n"
     ]
    }
   ],
   "source": [
    "import librosa\n",
    "import pandas as pd\n",
    "import numpy as np\n",
    "import matplotlib.pyplot as plt\n",
    "%matplotlib inline\n",
    "from sklearn.model_selection import train_test_split\n",
    "from sklearn.preprocessing import LabelEncoder, StandardScaler\n",
    "from keras import layers\n",
    "from keras.models import Sequential\n",
    "import warnings\n",
    "warnings.filterwarnings('ignore')\n",
    "from tensorflow.keras.layers import Dense, Dropout\n",
    "\n",
    "from tensorflow.keras.callbacks import EarlyStopping\n",
    "# import librosa.display\n",
    "\n",
    "# import IPython.display as ipd\n",
    "from tensorflow.keras.models import Model\n",
    "\n",
    "from sklearn.metrics import classification_report, roc_curve\n"
   ]
  },
  {
   "cell_type": "code",
   "execution_count": 2,
   "metadata": {},
   "outputs": [
    {
     "data": {
      "text/html": [
       "<div>\n",
       "<style scoped>\n",
       "    .dataframe tbody tr th:only-of-type {\n",
       "        vertical-align: middle;\n",
       "    }\n",
       "\n",
       "    .dataframe tbody tr th {\n",
       "        vertical-align: top;\n",
       "    }\n",
       "\n",
       "    .dataframe thead th {\n",
       "        text-align: right;\n",
       "    }\n",
       "</style>\n",
       "<table border=\"1\" class=\"dataframe\">\n",
       "  <thead>\n",
       "    <tr style=\"text-align: right;\">\n",
       "      <th></th>\n",
       "      <th>birdSound</th>\n",
       "      <th>sound_median</th>\n",
       "      <th>sound_mean</th>\n",
       "      <th>sound_std</th>\n",
       "      <th>chroma_stft_median</th>\n",
       "      <th>chroma_stft_mean</th>\n",
       "      <th>chroma_stft_std</th>\n",
       "      <th>rms_median</th>\n",
       "      <th>rms_mean</th>\n",
       "      <th>rms_std</th>\n",
       "      <th>...</th>\n",
       "      <th>mfcc_median18</th>\n",
       "      <th>mfcc_mean18</th>\n",
       "      <th>mfcc_std18</th>\n",
       "      <th>mfcc_median19</th>\n",
       "      <th>mfcc_mean19</th>\n",
       "      <th>mfcc_std19</th>\n",
       "      <th>mfcc_median20</th>\n",
       "      <th>mfcc_mean20</th>\n",
       "      <th>mfcc_std20</th>\n",
       "      <th>label</th>\n",
       "    </tr>\n",
       "  </thead>\n",
       "  <tbody>\n",
       "    <tr>\n",
       "      <th>0</th>\n",
       "      <td>351230.mp3</td>\n",
       "      <td>0.000000e+00</td>\n",
       "      <td>-6.142107e-05</td>\n",
       "      <td>0.012161</td>\n",
       "      <td>0.596200</td>\n",
       "      <td>0.529412</td>\n",
       "      <td>0.342621</td>\n",
       "      <td>0.002863</td>\n",
       "      <td>0.005909</td>\n",
       "      <td>0.010629</td>\n",
       "      <td>...</td>\n",
       "      <td>6.046153</td>\n",
       "      <td>5.956075</td>\n",
       "      <td>5.962350</td>\n",
       "      <td>9.087703</td>\n",
       "      <td>9.135355</td>\n",
       "      <td>6.044546</td>\n",
       "      <td>8.104885</td>\n",
       "      <td>8.139686</td>\n",
       "      <td>5.670450</td>\n",
       "      <td>Red_crossbill</td>\n",
       "    </tr>\n",
       "    <tr>\n",
       "      <th>1</th>\n",
       "      <td>365803.mp3</td>\n",
       "      <td>3.176906e-07</td>\n",
       "      <td>-8.101284e-09</td>\n",
       "      <td>0.035807</td>\n",
       "      <td>0.391162</td>\n",
       "      <td>0.424132</td>\n",
       "      <td>0.311685</td>\n",
       "      <td>0.006933</td>\n",
       "      <td>0.022807</td>\n",
       "      <td>0.027601</td>\n",
       "      <td>...</td>\n",
       "      <td>2.963391</td>\n",
       "      <td>3.257329</td>\n",
       "      <td>6.337379</td>\n",
       "      <td>9.306860</td>\n",
       "      <td>9.189724</td>\n",
       "      <td>6.112482</td>\n",
       "      <td>-1.249606</td>\n",
       "      <td>-1.692509</td>\n",
       "      <td>5.749753</td>\n",
       "      <td>Red_crossbill</td>\n",
       "    </tr>\n",
       "    <tr>\n",
       "      <th>2</th>\n",
       "      <td>364248.mp3</td>\n",
       "      <td>0.000000e+00</td>\n",
       "      <td>7.826290e-08</td>\n",
       "      <td>0.023321</td>\n",
       "      <td>0.500404</td>\n",
       "      <td>0.506566</td>\n",
       "      <td>0.294321</td>\n",
       "      <td>0.003329</td>\n",
       "      <td>0.010292</td>\n",
       "      <td>0.020916</td>\n",
       "      <td>...</td>\n",
       "      <td>6.002545</td>\n",
       "      <td>6.172754</td>\n",
       "      <td>4.921592</td>\n",
       "      <td>-2.660161</td>\n",
       "      <td>-2.276274</td>\n",
       "      <td>3.988553</td>\n",
       "      <td>5.196372</td>\n",
       "      <td>5.018038</td>\n",
       "      <td>4.176434</td>\n",
       "      <td>Red_crossbill</td>\n",
       "    </tr>\n",
       "    <tr>\n",
       "      <th>3</th>\n",
       "      <td>512152.mp3</td>\n",
       "      <td>2.295497e-05</td>\n",
       "      <td>4.515932e-05</td>\n",
       "      <td>0.009364</td>\n",
       "      <td>0.831979</td>\n",
       "      <td>0.799930</td>\n",
       "      <td>0.171446</td>\n",
       "      <td>0.008113</td>\n",
       "      <td>0.008701</td>\n",
       "      <td>0.003462</td>\n",
       "      <td>...</td>\n",
       "      <td>8.155019</td>\n",
       "      <td>7.944302</td>\n",
       "      <td>4.671725</td>\n",
       "      <td>6.125269</td>\n",
       "      <td>6.154128</td>\n",
       "      <td>4.302269</td>\n",
       "      <td>8.689074</td>\n",
       "      <td>8.654900</td>\n",
       "      <td>4.420681</td>\n",
       "      <td>Red_crossbill</td>\n",
       "    </tr>\n",
       "    <tr>\n",
       "      <th>4</th>\n",
       "      <td>365803.mp3</td>\n",
       "      <td>3.176906e-07</td>\n",
       "      <td>-8.101284e-09</td>\n",
       "      <td>0.035807</td>\n",
       "      <td>0.391162</td>\n",
       "      <td>0.424132</td>\n",
       "      <td>0.311685</td>\n",
       "      <td>0.006933</td>\n",
       "      <td>0.022807</td>\n",
       "      <td>0.027601</td>\n",
       "      <td>...</td>\n",
       "      <td>2.963391</td>\n",
       "      <td>3.257329</td>\n",
       "      <td>6.337379</td>\n",
       "      <td>9.306860</td>\n",
       "      <td>9.189724</td>\n",
       "      <td>6.112482</td>\n",
       "      <td>-1.249606</td>\n",
       "      <td>-1.692509</td>\n",
       "      <td>5.749753</td>\n",
       "      <td>Red_crossbill</td>\n",
       "    </tr>\n",
       "  </tbody>\n",
       "</table>\n",
       "<p>5 rows × 83 columns</p>\n",
       "</div>"
      ],
      "text/plain": [
       "    birdSound  sound_median    sound_mean  sound_std  chroma_stft_median  \\\n",
       "0  351230.mp3  0.000000e+00 -6.142107e-05   0.012161            0.596200   \n",
       "1  365803.mp3  3.176906e-07 -8.101284e-09   0.035807            0.391162   \n",
       "2  364248.mp3  0.000000e+00  7.826290e-08   0.023321            0.500404   \n",
       "3  512152.mp3  2.295497e-05  4.515932e-05   0.009364            0.831979   \n",
       "4  365803.mp3  3.176906e-07 -8.101284e-09   0.035807            0.391162   \n",
       "\n",
       "   chroma_stft_mean  chroma_stft_std  rms_median  rms_mean   rms_std  ...  \\\n",
       "0          0.529412         0.342621    0.002863  0.005909  0.010629  ...   \n",
       "1          0.424132         0.311685    0.006933  0.022807  0.027601  ...   \n",
       "2          0.506566         0.294321    0.003329  0.010292  0.020916  ...   \n",
       "3          0.799930         0.171446    0.008113  0.008701  0.003462  ...   \n",
       "4          0.424132         0.311685    0.006933  0.022807  0.027601  ...   \n",
       "\n",
       "   mfcc_median18  mfcc_mean18  mfcc_std18  mfcc_median19  mfcc_mean19  \\\n",
       "0       6.046153     5.956075    5.962350       9.087703     9.135355   \n",
       "1       2.963391     3.257329    6.337379       9.306860     9.189724   \n",
       "2       6.002545     6.172754    4.921592      -2.660161    -2.276274   \n",
       "3       8.155019     7.944302    4.671725       6.125269     6.154128   \n",
       "4       2.963391     3.257329    6.337379       9.306860     9.189724   \n",
       "\n",
       "   mfcc_std19  mfcc_median20  mfcc_mean20  mfcc_std20          label  \n",
       "0    6.044546       8.104885     8.139686    5.670450  Red_crossbill  \n",
       "1    6.112482      -1.249606    -1.692509    5.749753  Red_crossbill  \n",
       "2    3.988553       5.196372     5.018038    4.176434  Red_crossbill  \n",
       "3    4.302269       8.689074     8.654900    4.420681  Red_crossbill  \n",
       "4    6.112482      -1.249606    -1.692509    5.749753  Red_crossbill  \n",
       "\n",
       "[5 rows x 83 columns]"
      ]
     },
     "execution_count": 2,
     "metadata": {},
     "output_type": "execute_result"
    }
   ],
   "source": [
    "data = pd.read_csv('python_codes/dataset_500_50_recordings_v3.csv')\n",
    "data.head()# Dropping unneccesary columns"
   ]
  },
  {
   "cell_type": "code",
   "execution_count": 4,
   "metadata": {},
   "outputs": [],
   "source": [
    "mask = (data[\"label\"] == \"Red_crossbill\") | \\\n",
    "       (data[\"label\"] == \"House_sparrow\") | \\\n",
    "       (data[\"label\"] == \"Eurasian_skylark\") | \\\n",
    "       (data[\"label\"] == \"Common_raven\") | \\\n",
    "       (data[\"label\"] == 'Black-headed_gull') | \\\n",
    "       (data[\"label\"] == \"Olive-backed_pipit\") | \\\n",
    "       (data[\"label\"] == \"Eurasian_collared-dove\") | \\\n",
    "       (data[\"label\"] == 'Brown-crested_flycatcher') | \\\n",
    "       (data[\"label\"] == \"Mallard\") | \\\n",
    "       (data[\"label\"] == \"Warbling_vireo\") | \\\n",
    "       (data[\"label\"] == \"Gray_wagtail\") | \\\n",
    "       (data[\"label\"] == \"Canada_goose\") | \\\n",
    "       (data[\"label\"] == \"Dark-eyed_junco\") | \\\n",
    "       (data[\"label\"] == \"Common_crane\") | \\\n",
    "       (data[\"label\"] == \"Curve-billed_thrasher\") | \\\n",
    "       (data[\"label\"] == \"Dusky-capped_flycatcher\") | \\\n",
    "       (data[\"label\"] == \"Marsh_wren\") | \\\n",
    "       (data[\"label\"] == \"Whooper_swan\") | \\\n",
    "       (data[\"label\"] == \"Tropical_kingbird\") | \\\n",
    "       (data[\"label\"] == \"Common_tern\") | \\\n",
    "       (data[\"label\"] == \"Hudsonian_whimbrel\") | \\\n",
    "       (data[\"label\"] == \"Ring-necked_pheasant\") "
   ]
  },
  {
   "cell_type": "code",
   "execution_count": 5,
   "metadata": {},
   "outputs": [],
   "source": [
    "data = data[mask]"
   ]
  },
  {
   "cell_type": "code",
   "execution_count": 6,
   "metadata": {},
   "outputs": [],
   "source": [
    "data = data.drop(['birdSound'],axis=1)#Encoding the Labels\n",
    "genre_list = data.iloc[:, -1]\n",
    "encoder = LabelEncoder()\n",
    "y = encoder.fit_transform(genre_list)#Scaling the Feature columns\n",
    "scaler = StandardScaler()\n",
    "X = np.array(data.iloc[:, :-1], dtype = float)\n",
    "X_train, X_test, y_train, y_test = train_test_split(X, y, test_size=0.20, stratify=y)\n",
    "X_train_sc = scaler.fit_transform(X_train)#Dividing data into training and Testing set\n",
    "X_test_sc = scaler.transform(X_test)"
   ]
  },
  {
   "cell_type": "code",
   "execution_count": 7,
   "metadata": {},
   "outputs": [
    {
     "data": {
      "text/plain": [
       "2     640\n",
       "4     503\n",
       "0     502\n",
       "16    501\n",
       "15    500\n",
       "12    499\n",
       "10    498\n",
       "9     494\n",
       "1     483\n",
       "13    471\n",
       "19    457\n",
       "11    450\n",
       "7     430\n",
       "3     418\n",
       "6     395\n",
       "8     392\n",
       "14    386\n",
       "18    357\n",
       "17    355\n",
       "5     333\n",
       "20    306\n",
       "dtype: int64"
      ]
     },
     "execution_count": 7,
     "metadata": {},
     "output_type": "execute_result"
    }
   ],
   "source": [
    "pd.Series(y).value_counts()"
   ]
  },
  {
   "cell_type": "code",
   "execution_count": 8,
   "metadata": {},
   "outputs": [
    {
     "data": {
      "text/plain": [
       "(7496, 81)"
      ]
     },
     "execution_count": 8,
     "metadata": {},
     "output_type": "execute_result"
    }
   ],
   "source": [
    "X_train.shape"
   ]
  },
  {
   "cell_type": "code",
   "execution_count": 9,
   "metadata": {},
   "outputs": [],
   "source": [
    "es = EarlyStopping(\n",
    "    monitor=\"val_loss\",\n",
    "    patience=5,\n",
    "    min_delta=0\n",
    ")\n",
    "\n",
    "model = Sequential()\n",
    "model.add(layers.Dense(81, activation='relu'))\n",
    "model.add(layers.Dropout(0.50))\n",
    "model.add(layers.Dense(64, activation='relu'))\n",
    "model.add(layers.Dropout(0.50))\n",
    "model.add(layers.Dense(25, activation='softmax'))\n",
    "model.compile(optimizer='adam',\n",
    "              loss='sparse_categorical_crossentropy',\n",
    "              metrics=['accuracy'])"
   ]
  },
  {
   "cell_type": "code",
   "execution_count": 10,
   "metadata": {},
   "outputs": [
    {
     "data": {
      "text/plain": [
       "array([ 4, 19,  2, ..., 20,  4,  3])"
      ]
     },
     "execution_count": 10,
     "metadata": {},
     "output_type": "execute_result"
    }
   ],
   "source": [
    "y_test"
   ]
  },
  {
   "cell_type": "code",
   "execution_count": 11,
   "metadata": {},
   "outputs": [
    {
     "data": {
      "text/plain": [
       "array([10, 20,  4, ...,  3, 13,  2])"
      ]
     },
     "execution_count": 11,
     "metadata": {},
     "output_type": "execute_result"
    }
   ],
   "source": [
    "y_train"
   ]
  },
  {
   "cell_type": "code",
   "execution_count": 12,
   "metadata": {},
   "outputs": [],
   "source": [
    "classifier = model.fit(X_train_sc,\n",
    "                    y_train,\n",
    "                    epochs=1500,\n",
    "                    batch_size=500,\n",
    "                    validation_data=(X_test_sc,y_test),\n",
    "#                     callbacks=[es],\n",
    "                    verbose=0)"
   ]
  },
  {
   "cell_type": "code",
   "execution_count": 13,
   "metadata": {},
   "outputs": [
    {
     "data": {
      "image/png": "[encoded data removed]",
      "text/plain": [
       "<Figure size 864x576 with 1 Axes>"
      ]
     },
     "metadata": {
      "needs_background": "light"
     },
     "output_type": "display_data"
    }
   ],
   "source": [
    "train_loss_es = classifier.history['loss']\n",
    "test_loss_es = classifier.history['val_loss']\n",
    "plt.figure(figsize=(12, 8))\n",
    "# plt.plot(train_loss, label='Training loss', color='navy')\n",
    "# plt.plot(test_loss, label='Testing loss', color='skyblue')\n",
    "plt.plot(train_loss_es, label='ES Training loss', color='blue')\n",
    "plt.plot(test_loss_es, label='ES Testing loss', color='red')\n",
    "plt.legend();"
   ]
  },
  {
   "cell_type": "code",
   "execution_count": 14,
   "metadata": {},
   "outputs": [
    {
     "data": {
      "text/plain": [
       "array([ 4, 19,  2, ..., 20,  4,  3])"
      ]
     },
     "execution_count": 14,
     "metadata": {},
     "output_type": "execute_result"
    }
   ],
   "source": [
    "y_test"
   ]
  },
  {
   "cell_type": "code",
   "execution_count": 15,
   "metadata": {},
   "outputs": [
    {
     "data": {
      "text/plain": [
       "array([ 4, 19,  2, ..., 17,  4,  3])"
      ]
     },
     "execution_count": 15,
     "metadata": {},
     "output_type": "execute_result"
    }
   ],
   "source": [
    "model.predict_classes(X_test_sc)"
   ]
  },
  {
   "cell_type": "code",
   "execution_count": null,
   "metadata": {},
   "outputs": [],
   "source": []
  },
  {
   "cell_type": "code",
   "execution_count": 16,
   "metadata": {},
   "outputs": [],
   "source": [
    "j = y_test == model.predict_classes(X_test_sc)"
   ]
  },
  {
   "cell_type": "code",
   "execution_count": 17,
   "metadata": {},
   "outputs": [],
   "source": [
    "correct = 0\n",
    "incorrect = 0 \n",
    "for i in j:\n",
    "    if i :\n",
    "        correct += 1\n",
    "    else:\n",
    "        incorrect += 1"
   ]
  },
  {
   "cell_type": "code",
   "execution_count": 18,
   "metadata": {},
   "outputs": [
    {
     "data": {
      "text/plain": [
       "1341"
      ]
     },
     "execution_count": 18,
     "metadata": {},
     "output_type": "execute_result"
    }
   ],
   "source": [
    "correct"
   ]
  },
  {
   "cell_type": "code",
   "execution_count": 19,
   "metadata": {},
   "outputs": [
    {
     "data": {
      "text/plain": [
       "533"
      ]
     },
     "execution_count": 19,
     "metadata": {},
     "output_type": "execute_result"
    }
   ],
   "source": [
    "incorrect"
   ]
  },
  {
   "cell_type": "code",
   "execution_count": 20,
   "metadata": {},
   "outputs": [
    {
     "data": {
      "text/plain": [
       "(1874,)"
      ]
     },
     "execution_count": 20,
     "metadata": {},
     "output_type": "execute_result"
    }
   ],
   "source": [
    "y_test.shape"
   ]
  },
  {
   "cell_type": "code",
   "execution_count": 21,
   "metadata": {},
   "outputs": [
    {
     "data": {
      "text/plain": [
       "71.5581643543223"
      ]
     },
     "execution_count": 21,
     "metadata": {},
     "output_type": "execute_result"
    }
   ],
   "source": [
    "(correct / (correct+incorrect))*100"
   ]
  },
  {
   "cell_type": "code",
   "execution_count": 22,
   "metadata": {},
   "outputs": [],
   "source": [
    "Y_pred = model.predict_classes(X_test_sc)"
   ]
  },
  {
   "cell_type": "code",
   "execution_count": 23,
   "metadata": {
    "scrolled": true
   },
   "outputs": [
    {
     "name": "stdout",
     "output_type": "stream",
     "text": [
      "              precision    recall  f1-score   support\n",
      "\n",
      "           0       0.69      0.75      0.72       100\n",
      "           1       0.71      0.66      0.68        97\n",
      "           2       0.72      0.84      0.78       128\n",
      "           3       0.84      0.73      0.78        84\n",
      "           4       0.72      0.68      0.70       101\n",
      "           5       0.69      0.55      0.61        67\n",
      "           6       0.81      0.63      0.71        79\n",
      "           7       0.54      0.62      0.57        86\n",
      "           8       0.60      0.60      0.60        78\n",
      "           9       0.84      0.85      0.84        99\n",
      "          10       0.69      0.71      0.70       100\n",
      "          11       0.64      0.79      0.71        90\n",
      "          12       0.71      0.72      0.71       100\n",
      "          13       0.71      0.80      0.75        94\n",
      "          14       0.66      0.70      0.68        77\n",
      "          15       0.76      0.81      0.79       100\n",
      "          16       0.77      0.70      0.73       100\n",
      "          17       0.73      0.69      0.71        71\n",
      "          18       0.78      0.65      0.71        71\n",
      "          19       0.76      0.69      0.72        91\n",
      "          20       0.73      0.67      0.70        61\n",
      "\n",
      "    accuracy                           0.72      1874\n",
      "   macro avg       0.72      0.71      0.71      1874\n",
      "weighted avg       0.72      0.72      0.72      1874\n",
      "\n"
     ]
    }
   ],
   "source": [
    "print(classification_report(y_test, model.predict_classes(X_test_sc)))"
   ]
  },
  {
   "cell_type": "code",
   "execution_count": 24,
   "metadata": {},
   "outputs": [
    {
     "name": "stdout",
     "output_type": "stream",
     "text": [
      "0 Black-headed_gull\n",
      "1 Brown-crested_flycatcher\n",
      "2 Canada_goose\n",
      "3 Common_crane\n",
      "4 Common_raven\n",
      "5 Common_tern\n",
      "6 Curve-billed_thrasher\n",
      "7 Dark-eyed_junco\n",
      "8 Dusky-capped_flycatcher\n",
      "9 Eurasian_collared-dove\n",
      "10 Eurasian_skylark\n",
      "11 Gray_wagtail\n",
      "12 House_sparrow\n",
      "13 Mallard\n",
      "14 Marsh_wren\n",
      "15 Olive-backed_pipit\n",
      "16 Red_crossbill\n",
      "17 Ring-necked_pheasant\n",
      "18 Tropical_kingbird\n",
      "19 Warbling_vireo\n",
      "20 Whooper_swan\n"
     ]
    }
   ],
   "source": [
    " for i, x in enumerate(encoder.inverse_transform(pd.Series(y_test).sort_values().unique())):\n",
    "    print(i, x)"
   ]
  },
  {
   "cell_type": "code",
   "execution_count": null,
   "metadata": {},
   "outputs": [],
   "source": []
  },
  {
   "cell_type": "code",
   "execution_count": 25,
   "metadata": {},
   "outputs": [
    {
     "data": {
      "text/plain": [
       "array([ 0,  1,  2,  3,  4,  5,  6,  7,  8,  9, 10, 11, 12, 13, 14, 15, 16,\n",
       "       17, 18, 19, 20])"
      ]
     },
     "execution_count": 25,
     "metadata": {},
     "output_type": "execute_result"
    }
   ],
   "source": [
    "pd.Series(y_test).sort_values().unique()"
   ]
  },
  {
   "cell_type": "code",
   "execution_count": 26,
   "metadata": {},
   "outputs": [],
   "source": [
    "rec,sr = librosa.load('Black-headed Gull  Test.mp3')"
   ]
  },
  {
   "cell_type": "code",
   "execution_count": 27,
   "metadata": {},
   "outputs": [],
   "source": [
    "def extract_features(filename, bird_sound, label):\n",
    "\n",
    "    print(\"Extracting features from {}\".format(bird_sound))\n",
    "    y, sr = librosa.load(bird_sound, mono=True, sr=44000)\n",
    "    rms = librosa.feature.rms(y=y)\n",
    "    chroma_stft = librosa.feature.chroma_stft(y=y, sr=sr)\n",
    "    spec_cent = librosa.feature.spectral_centroid(y=y, sr=sr)\n",
    "    spec_bw = librosa.feature.spectral_bandwidth(y=y, sr=sr)\n",
    "    rolloff = librosa.feature.spectral_rolloff(y=y, sr=sr)\n",
    "    zcr = librosa.feature.zero_crossing_rate(y)\n",
    "    mfcc = librosa.feature.mfcc(y=y, sr=sr)\n",
    "    row_data = f'{np.median(y)} {np.mean(y)} {np.std(y)} \\\n",
    "                 {np.median(chroma_stft)} {np.mean(chroma_stft)} {np.std(chroma_stft)} \\\n",
    "                 {np.median(rms)} {np.mean(rms)} {np.std(rms)} \\\n",
    "                 {np.median(spec_cent)} {np.mean(spec_cent)} {np.std(spec_cent)} \\\n",
    "                 {np.median(spec_bw)} {np.mean(spec_bw)} {np.std(spec_bw)} \\\n",
    "                 {np.median(rolloff)} {np.mean(rolloff)} {np.std(rolloff)} \\\n",
    "                 {np.median(zcr)} {np.mean(zcr)} {np.std(zcr)}'\n",
    "    for e in mfcc:\n",
    "        row_data += f' {np.median(e)} {np.mean(e)} {np.std(e)}'\n",
    "    print(\"Extracting features from {} complete\".format(bird_sound))\n",
    "    return row_data"
   ]
  },
  {
   "cell_type": "code",
   "execution_count": 33,
   "metadata": {},
   "outputs": [
    {
     "name": "stdout",
     "output_type": "stream",
     "text": [
      "Extracting features from Red Crossbill.mp3\n",
      "Extracting features from Red Crossbill.mp3 complete\n"
     ]
    }
   ],
   "source": [
    "# fn = 'Black-headed Gull  Test.mp3'\n",
    "fn = 'Red Crossbill.mp3'\n",
    "# fn = 'Eurasian Collared Dove.mp3'\n",
    "test_data = extract_features(fn , fn , 'Red Crossbill')"
   ]
  },
  {
   "cell_type": "code",
   "execution_count": 34,
   "metadata": {},
   "outputs": [],
   "source": [
    "test_data = pd.DataFrame(test_data.split()).T"
   ]
  },
  {
   "cell_type": "code",
   "execution_count": 35,
   "metadata": {},
   "outputs": [],
   "source": [
    "test_data = np.array(test_data, dtype = float)"
   ]
  },
  {
   "cell_type": "code",
   "execution_count": 36,
   "metadata": {},
   "outputs": [],
   "source": [
    "X_test_test_sc = scaler.transform(test_data)"
   ]
  },
  {
   "cell_type": "code",
   "execution_count": 37,
   "metadata": {},
   "outputs": [
    {
     "data": {
      "text/plain": [
       "array([18])"
      ]
     },
     "execution_count": 37,
     "metadata": {},
     "output_type": "execute_result"
    }
   ],
   "source": [
    "model.predict_classes(X_test_test_sc)"
   ]
  },
  {
   "cell_type": "code",
   "execution_count": null,
   "metadata": {},
   "outputs": [],
   "source": []
  }
 ],
 "metadata": {
  "kernelspec": {
   "display_name": "Python 3",
   "language": "python",
   "name": "python3"
  },
  "language_info": {
   "codemirror_mode": {
    "name": "ipython",
    "version": 3
   },
   "file_extension": ".py",
   "mimetype": "text/x-python",
   "name": "python",
   "nbconvert_exporter": "python",
   "pygments_lexer": "ipython3",
   "version": "3.7.4"
  }
 },
 "nbformat": 4,
 "nbformat_minor": 2
}
